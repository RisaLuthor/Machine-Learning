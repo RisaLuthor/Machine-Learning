# Risa Luthor
#CS 379 IP 1

# Import Libraries
import pandas as pd
import numpy as np

# Import the Titanic Passenger Data Set
file = 'TitanicPassengerDataSet.xlsx'
df = pd.read_excel(file)

#Print the start and end of the Data list. Showing the Data set as read file
df

# Provides a shorter and easier to read list of averages of the full list
df.describe()

# This will show what categories have no values within them
df.isna().sum()

# Remove incomplete categories for easier processing
df = df.dropna(subset = ['fare', 'embarked'])

# Remove unnecessary categories for easier processing
df = df.drop(['cabin', 'body', 'boat', 'name', 'home.dest'], axis = 1)

# Fill empty spots and the meaning of the categories
df['age'].fillna(value = df['age'].mean(),  inplace = True)

# Supervised clustering to ensure all the data works
df.dtypes

# Categories for dummy code entered due to not being compatible
df = pd.get_dummies(df, columns = ['sex'])
df = pd.get_dummies(df, columns = ['embarked'])

# Dummy Code
df =df[['survived','pclass','age','sibsp','parch','sex_female','fare','embarked_C','embarked_S']] 

# Seperating Data
X_Vs = df.iloc[:,1:10].values # Independent
Y_V = df.iloc[:,0] # Dependent

df

# Split into subsets
from sklearn.model_selection import train_test_split

# Training and Testing
train_X, test_X, train_Y, test_Y = train_test_split(X_Vs, Y_V, test_size = 0.3, random_state = 0)

# Supervised Clustering takes place
def models(train_X, train_Y):
    # Tree Classifier
    from sklearn.tree import DecisionTreeClassifier
    tree = DecisionTreeClassifier(criterion = 'entropy', random_state = 0)
    tree.fit(train_X, train_Y)
    
    print('Decision Tree Training Accuracy:', tree.score(train_X, train_Y))
    # Random Forest Classifer
    from sklearn.ensemble import RandomForestClassifier
    rforest = RandomForestClassifier(n_estimators = 10, criterion = 'entropy', random_state = 0)
    rforest.fit(train_X, train_Y)
    
    print('Random Forest Training Accuracy:', rforest.score(train_X, train_Y))
    return tree, rforest

# Model Training
model = models(train_X, train_Y)

from sklearn.metrics import confusion_matrix # Create a confusion matrix
for i in range(len(model)):
    confm = confusion_matrix(test_Y, model[i].predict(test_X))
    
    TN, FP, FN, TP = confusion_matrix(test_Y, model[i].predict(test_X)).ravel()
    print(confm) # Prints Confusion Matrix
    print('Model[{}] Testing Accuracy = "{} !"'.format(i, (TP + TN) / (TP + TN + FN + FP)))
    print() # Adds space between the prints

#Start of Unsupervised Clustering
from sklearn.cluster import KMeans
y = np.array(df['survived'])
kmean = KMeans(n_clusters = 2)
kmean.fit(X_Vs)

# Accuracy
correct = 0
for i in range(len(X_Vs)):
    predct = np.array(X_Vs[i].astype(float))
    predct = predct.reshape(-1, len(predct))
    predct = kmean.predict(predct)
    if predct[0] == y[i]:
        correct += 1
Accuracy = (correct/len(X_Vs))*100
# Print Accuracy
print('Model Accuracy:', Accuracy)

# Unsupervised Predicting
pred = kmean.predict(X_Vs)
# Printing Pred
pred

# Comparing Predicted Values to Actual Values
actuals = df['survived'].value_counts().values
predicted = [len(pred[pred == 0]), len(pred[pred == 1])]
conf_matrix = pd.DataFrame({'0': actuals, '1': predicted}, columns = ['0', '1'])
# Generate Confusion Matrix with Data
conf_matrix

# Jupyter Notebook helped alot with the testing and running the code back. 
# I still prefer VS Code for my HTML and CSS functions. 
# But this was easier to use with the Python.
# Jupyter Notebook was difficult in terms of locating the errors within the lines of code.

 "source": [
    "* [Importing Notebooks](Importing Notebooks.ipynb)\n",
    "* [Connecting with the Qt Console](Connecting with the Qt Console.ipynb)\n",
    "* [Typesetting Equations](Typesetting Equations.ipynb)"
   ]
  }
 ],
 "metadata": {
  "kernelspec": {
   "display_name": "Python 3",
   "language": "python",
   "name": "python3"
  },
  "language_info": {
   "codemirror_mode": {
    "name": "ipython",
    "version": 3
   },
   "file_extension": ".py",
   "mimetype": "text/x-python",
   "name": "python",
   "nbconvert_exporter": "python",
   "pygments_lexer": "ipython3",
   "version": "3.4.3"
  }
 },
 "nbformat": 4,
 "nbformat_minor": 0
}
